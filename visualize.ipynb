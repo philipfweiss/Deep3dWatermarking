{
 "cells": [
  {
   "cell_type": "code",
   "execution_count": 8,
   "metadata": {},
   "outputs": [],
   "source": [
    "from pyntcloud import PyntCloud\n",
    "import pymesh\n",
    "import numpy as np"
   ]
  },
  {
   "cell_type": "code",
   "execution_count": 9,
   "metadata": {},
   "outputs": [],
   "source": [
    "def mesh_to_point_cloud(filename):\n",
    "    #pcd = open3d.read_point_cloud(filename) # Read the point cloud\n",
    "    #open3d.draw_geometries([pcd]) # Visualize the point cloud\n",
    "    anky = PyntCloud.from_file(filename)\n",
    "    #anky = pymesh.load_mesh(filename)\n",
    "    #print(anky)\n",
    "    #anky.plot(mesh=True, backend=\"matplotlib\")\n",
    "    anky_point_cloud = anky.get_sample(\"mesh_random\", n=10000, rgb=False, normals=False, as_PyntCloud=True)\n",
    "    #print(anky_point_cloud)\n",
    "    #anky_point_cloud.points[[\"x\", \"y\", \"z\"]].plot(kind=\"hist\", subplots=True);\n",
    "    anky_point_cloud.plot()"
   ]
  },
  {
   "cell_type": "code",
   "execution_count": 10,
   "metadata": {},
   "outputs": [],
   "source": [
    "test_filename = \"data/test_model/model_normalized.obj\"\n",
    "np_filename = \"data/test_model/model_normalized.npy\"\n",
    "ply_filename = \"data/test_model/model_normalized.ply\"\n",
    "#convert_to_np_array(test_filename, out_filename)\n",
    "#save_as_ply(test_filename, ply_filename)\n"
   ]
  },
  {
   "cell_type": "code",
   "execution_count": 11,
   "metadata": {},
   "outputs": [
    {
     "data": {
      "application/vnd.jupyter.widget-view+json": {
       "model_id": "35147ceb1c264e8a8e781dfee5deb6a3",
       "version_major": 2,
       "version_minor": 0
      },
      "text/plain": [
       "Renderer(camera=PerspectiveCamera(aspect=1.6, fov=90.0, position=(-0.003295829286798835, 0.03173333406448364, …"
      ]
     },
     "metadata": {},
     "output_type": "display_data"
    },
    {
     "data": {
      "application/vnd.jupyter.widget-view+json": {
       "model_id": "0ef3e2ccd1f14377a1d92eb7afe071bc",
       "version_major": 2,
       "version_minor": 0
      },
      "text/plain": [
       "HBox(children=(Label(value='Point size:'), FloatSlider(value=0.08265604972839355, max=0.8265604972839355, step…"
      ]
     },
     "metadata": {},
     "output_type": "display_data"
    }
   ],
   "source": [
    "mesh_to_point_cloud(ply_filename)"
   ]
  },
  {
   "cell_type": "code",
   "execution_count": 12,
   "metadata": {
    "scrolled": true
   },
   "outputs": [
    {
     "data": {
      "image/png": "[encoded data removed]",
      "text/plain": [
       "<Figure size 432x288 with 3 Axes>"
      ]
     },
     "metadata": {
      "needs_background": "light"
     },
     "output_type": "display_data"
    }
   ],
   "source": [
    "anky = PyntCloud.from_file(ply_filename)\n",
    "anky_point_cloud = anky.get_sample(\"mesh_random\", n=10000, rgb=False, normals=False, as_PyntCloud=True)\n",
    "anky_point_cloud.points[[\"x\", \"y\", \"z\"]].plot(kind=\"hist\", subplots=True);\n"
   ]
  },
  {
   "cell_type": "code",
   "execution_count": 16,
   "metadata": {
    "scrolled": false
   },
   "outputs": [
    {
     "data": {
      "text/html": [
       "\n",
       "        <iframe\n",
       "            width=\"800\"\n",
       "            height=\"500\"\n",
       "            src=\"pyntcloud_plot.html\"\n",
       "            frameborder=\"0\"\n",
       "            allowfullscreen\n",
       "        ></iframe>\n",
       "        "
      ],
      "text/plain": [
       "<IPython.lib.display.IFrame at 0x7fbe832ca5f8>"
      ]
     },
     "execution_count": 16,
     "metadata": {},
     "output_type": "execute_result"
    }
   ],
   "source": [
    "anky.plot(mesh=True, backend=\"threejs\")"
   ]
  },
  {
   "cell_type": "code",
   "execution_count": 15,
   "metadata": {
    "scrolled": true
   },
   "outputs": [
    {
     "data": {
      "application/vnd.jupyter.widget-view+json": {
       "model_id": "08c291dc06874b11aeb901514be11b71",
       "version_major": 2,
       "version_minor": 0
      },
      "text/plain": [
       "Renderer(camera=PerspectiveCamera(aspect=1.6, fov=90.0, position=(-0.002887388924136758, 0.025696396827697754,…"
      ]
     },
     "metadata": {},
     "output_type": "display_data"
    },
    {
     "data": {
      "application/vnd.jupyter.widget-view+json": {
       "model_id": "ac88020a603b4dde9171d7e9b1013824",
       "version_major": 2,
       "version_minor": 0
      },
      "text/plain": [
       "HBox(children=(Label(value='Point size:'), FloatSlider(value=0.08281676173210144, max=0.8281676173210144, step…"
      ]
     },
     "metadata": {},
     "output_type": "display_data"
    }
   ],
   "source": [
    "anky_point_cloud = anky.get_sample(\"mesh_random\", n=50000, rgb=False, normals=False, as_PyntCloud=True)\n",
    "anky_point_cloud.plot()"
   ]
  }
 ],
 "metadata": {
  "kernelspec": {
   "display_name": "Python 3",
   "language": "python",
   "name": "python3"
  },
  "language_info": {
   "codemirror_mode": {
    "name": "ipython",
    "version": 3
   },
   "file_extension": ".py",
   "mimetype": "text/x-python",
   "name": "python",
   "nbconvert_exporter": "python",
   "pygments_lexer": "ipython3",
   "version": "3.7.3"
  }
 },
 "nbformat": 4,
 "nbformat_minor": 2
}
